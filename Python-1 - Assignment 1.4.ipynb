{
 "cells": [
  {
   "cell_type": "code",
   "execution_count": 1,
   "metadata": {},
   "outputs": [
    {
     "name": "stdout",
     "output_type": "stream",
     "text": [
      "\n",
      " The Volume of a Sphere = 904.32\n"
     ]
    }
   ],
   "source": [
    "# Python Program to find the volume of a sphere with diameter 12 cm\n",
    " \n",
    "PI = 3.14\n",
    "d = 12\n",
    "radius = float(d/2)\n",
    "Volume = (4 / 3) * PI * radius * radius * radius\n",
    " \n",
    "print(\"\\n The Volume of a Sphere = %.2f\" %Volume)"
   ]
  }
 ],
 "metadata": {
  "kernelspec": {
   "display_name": "Python 3",
   "language": "python",
   "name": "python3"
  },
  "language_info": {
   "codemirror_mode": {
    "name": "ipython",
    "version": 3
   },
   "file_extension": ".py",
   "mimetype": "text/x-python",
   "name": "python",
   "nbconvert_exporter": "python",
   "pygments_lexer": "ipython3",
   "version": "3.6.4"
  }
 },
 "nbformat": 4,
 "nbformat_minor": 2
}
